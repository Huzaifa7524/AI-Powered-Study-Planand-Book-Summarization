{
 "cells": [
  {
   "cell_type": "markdown",
   "metadata": {},
   "source": [
    "# Prompt Engineering with Langchain and OpenAI"
   ]
  },
  {
   "cell_type": "markdown",
   "metadata": {},
   "source": [
    "###  Huzaifa Tahir \n",
    "\n",
    "Email: huzaifatahir7524@gmail.com\n",
    "\n",
    "LinkedIn: https://www.linkedin.com/in/huzaifatahir7524/\n",
    "\n",
    "Github: https://github.com/Huzaifa7524\n",
    "\n",
    "Date: 2024-06-8 11:27 AM Saturday"
   ]
  },
  {
   "cell_type": "markdown",
   "metadata": {},
   "source": [
    "![Image of Prompt Engineering](./images/Personalized.png)"
   ]
  },
  {
   "cell_type": "markdown",
   "metadata": {},
   "source": [
    "# Personalized Study Plan Prompt\n",
    "\n",
    "This prompt is designed to guide an AI assistant in creating highly personalized and effective study plans for students. The prompt incorporates various prompt engineering techniques to ensure that the generated study plans are tailored to each student's unique needs, strengths, and aspirations."
   ]
  },
  {
   "cell_type": "markdown",
   "metadata": {},
   "source": [
    "## Prompt Details\n",
    "\n",
    "The prompt starts by explicitly stating the task objective: creating a personalized study plan for each individual student. It then provides a comprehensive list of input variables that the AI should consider when developing the study plan:\n",
    "\n",
    "1. **Field of Study**: The academic field or program the student is pursuing, such as computer science, engineering, or business administration.\n",
    "2. **Year of Study**: The current academic year or level of the student, e.g., freshman, sophomore, junior, or senior.\n",
    "3. **List of Subjects**: The specific courses or subjects the student is currently taking or will be taking in the upcoming term.\n",
    "4. **Preferred Learning Styles**: The student's preferred methods of learning and processing information, such as visual, auditory, kinesthetic, or a combination of these styles.\n",
    "5. **Personal Objectives**: The student's specific goals, aspirations, or desired outcomes related to their academic journey.\n",
    "6. **Challenges**: Any specific difficulties or obstacles the student may be facing, such as learning disabilities, time management issues, or personal circumstances that could impact their academic performance.\n",
    "7. **Extracurricular Activities**: The student's involvements outside of their academic studies, such as sports, clubs, or part-time work.\n",
    "\n",
    "The prompt then outlines seven key components that the AI should address in the study plan:\n",
    "\n",
    "1. **Identify Key Areas of Focus**: Prioritize subjects where improvement is needed based on the student's academic performance or specific goals.\n",
    "2. **Incorporate Learning Styles**: Integrate strategies and techniques that align with the student's preferred learning styles to enhance engagement and retention.\n",
    "3. **Balance Commitments**: Suggest methods to effectively balance academic commitments with extracurricular activities, promoting a healthy work-life balance.\n",
    "4. **Address Objectives and Challenges**: Address any specific personal objectives or challenges mentioned, such as preparing for an upcoming exam or overcoming a learning difficulty.\n",
    "5. **Provide a Timeline**: Develop a structured timeline or schedule that considers the student's year of study, field of study, and course load to help them stay on track and manage their time effectively.\n",
    "6. **Recommend Resources**: Suggest supplementary resources, such as online tutorials, practice materials, study groups, or academic support services, to further support the student's learning journey.\n",
    "7. **Offer Motivational Strategies**: Provide motivational tips or strategies to help the student maintain consistent effort and perseverance throughout the study plan.\n"
   ]
  },
  {
   "cell_type": "markdown",
   "metadata": {},
   "source": [
    "The prompt emphasizes the importance of creating a comprehensive, actionable, and tailored study plan that supports academic success while nurturing the student's individual interests and aspirations.\n",
    "\n",
    "## Prompt Engineering Techniques\n",
    "\n",
    "To enhance the effectiveness of the prompt, various prompt engineering techniques have been incorporated:\n",
    "\n",
    "1. **Task Decomposition**: The larger task of creating a study plan is broken down into smaller, more manageable components.\n",
    "2. **Descriptive Instructions**: Detailed descriptions and explanations are provided for each input variable, clarifying their significance and how they should be used.\n",
    "3. **Example Generation**: Examples or suggestions are offered for how the AI can address certain components of the study plan, serving as implicit demonstrations.\n",
    "4. **Grounding**: The prompt emphasizes the importance of grounding the study plan in the student's unique circumstances, needs, strengths, and aspirations.\n",
    "5. **Output Constraints**: Clear expectations and constraints are set for the desired output, such as ensuring that the study plan is comprehensive, actionable, and tailored.\n",
    "6. **Purpose Clarification**: The overall goal and purpose of generating the study plan are explicitly stated to provide context and intent.\n",
    "\n",
    "\n"
   ]
  },
  {
   "cell_type": "markdown",
   "metadata": {},
   "source": [
    "## Importing libraries"
   ]
  },
  {
   "cell_type": "code",
   "execution_count": 38,
   "metadata": {},
   "outputs": [],
   "source": [
    "from langchain.prompts import PromptTemplate\n",
    "from langchain_openai import ChatOpenAI\n",
    "from IPython.display import Markdown, display\n",
    "import openai"
   ]
  },
  {
   "cell_type": "markdown",
   "metadata": {},
   "source": [
    "## API Key from OpenAI"
   ]
  },
  {
   "cell_type": "code",
   "execution_count": 39,
   "metadata": {},
   "outputs": [],
   "source": [
    "# Define your OpenAI API key\n",
    "openai.api_key = 'sk-proj-'"
   ]
  },
  {
   "cell_type": "markdown",
   "metadata": {},
   "source": [
    "## Createing the template For Prompt"
   ]
  },
  {
   "cell_type": "code",
   "execution_count": 45,
   "metadata": {},
   "outputs": [],
   "source": [
    "# Create the template\n",
    "student_study_plan_template = PromptTemplate(\n",
    "    input_variables=[\n",
    "        \"student_name\",\n",
    "        \"field_of_study\",\n",
    "        \"year_of_study\",\n",
    "        \"list_of_subjects\",\n",
    "        \"preferred_learning_styles\",\n",
    "        \"personal_objectives\",\n",
    "        \"challenges\",\n",
    "        \"extracurricular_activities\"\n",
    "    ],\n",
    "    template=\"\"\"\n",
    "You are an AI assistant tasked with creating a personalized study plan for {student_name}. Your goal is to develop a tailored and comprehensive plan that addresses the unique needs, strengths, and aspirations of each individual student.\n",
    "\n",
    "To create an effective plan, you will need to carefully analyze the following information about the student:\n",
    "\n",
    "Field of Study: {field_of_study}\n",
    "This refers to the academic field or program the student is pursuing, such as computer science, engineering, or business administration. Understanding the field of study will help you tailor the plan to the specific subject areas and requirements of the student's program.\n",
    "\n",
    "Year of Study: {year_of_study}\n",
    "This indicates the current academic year or level of the student, such as freshman, sophomore, junior, or senior. Considering the year of study will help you adjust the plan's difficulty level, workload, and focus areas accordingly.\n",
    "\n",
    "List of Subjects: {list_of_subjects}\n",
    "This is a list of the specific courses or subjects the student is currently taking or will be taking in the upcoming term. This information is crucial for identifying areas that require more attention and prioritizing subjects where improvement is needed.\n",
    "\n",
    "Preferred Learning Styles: {preferred_learning_styles}\n",
    "This refers to the student's preferred methods of learning and processing information, such as visual, auditory, kinesthetic, or a combination of these styles. Incorporating strategies and techniques that align with the student's preferred learning styles can enhance engagement, retention, and overall effectiveness of the study plan.\n",
    "\n",
    "Personal Objectives: {personal_objectives}\n",
    "These are the student's specific goals, aspirations, or desired outcomes related to their academic journey. It could include objectives like preparing for a specific exam, gaining practical experience through internships, or pursuing further studies after graduation. Addressing these personal objectives will ensure that the study plan is tailored to the student's long-term aims and motivations.\n",
    "\n",
    "Challenges: {challenges}\n",
    "This refers to any specific difficulties or obstacles the student may be facing, such as learning disabilities, time management issues, or personal circumstances that could impact their academic performance. Addressing these challenges in the study plan will help the student overcome them and achieve their full potential.\n",
    "\n",
    "Extracurricular Activities: {extracurricular_activities}\n",
    "These are the student's involvements outside of their academic studies, such as sports, clubs, or part-time work. Considering extracurricular activities will help you suggest methods to effectively balance academic commitments with other responsibilities, promoting a healthy work-life balance.\n",
    "\n",
    "Based on this comprehensive overview of the student's information, generate a detailed study plan tailored to {student_name}'s unique needs, strengths, and aspirations. The plan should:\n",
    "\n",
    "1. Identify key areas of focus based on the list of subjects, prioritizing subjects where improvement is needed based on the student's academic performance or specific goals.\n",
    "\n",
    "2. Incorporate strategies and techniques that align with {student_name}'s preferred learning styles to enhance engagement, retention, and overall effectiveness of the plan. For example, if the student prefers visual learning, suggest the use of diagrams, infographics, or video resources.\n",
    "\n",
    "3. Suggest practical methods to effectively balance academic commitments with extracurricular activities, promoting a healthy work-life balance. This could include time management strategies, prioritization techniques, or recommendations for seeking academic support when needed.\n",
    "\n",
    "4. Address any specific personal objectives or challenges mentioned, such as preparing for an upcoming exam by providing targeted study strategies or overcoming a learning difficulty by recommending specialized resources or tutoring.\n",
    "\n",
    "5. Provide a structured timeline or schedule that considers the student's year of study, field of study, and course load. This timeline should help {student_name} stay on track, manage their time effectively, and prioritize tasks accordingly.\n",
    "\n",
    "6. Recommend supplementary resources that could further support {student_name}'s learning journey. These could include online tutorials, practice materials, study groups, or academic support services offered by the institution.\n",
    "\n",
    "7. Offer motivational tips or strategies to help {student_name} maintain consistent effort and perseverance throughout the study plan. This could involve goal-setting techniques, reward systems, or strategies for overcoming procrastination and maintaining focus.\n",
    "\n",
    "Please ensure that the study plan you generate is comprehensive, actionable, and tailored to {student_name}'s unique circumstances. The ultimate goal is to create a personalized roadmap that supports academic success while nurturing the student's individual interests and aspirations.\n",
    "\"\"\"\n",
    ")"
   ]
  },
  {
   "cell_type": "markdown",
   "metadata": {},
   "source": [
    "## Filling the template with the given data"
   ]
  },
  {
   "cell_type": "code",
   "execution_count": 46,
   "metadata": {},
   "outputs": [],
   "source": [
    "filled_template = student_study_plan_template.format(\n",
    "    student_name=\"Huzaifa Tahir\",\n",
    "    field_of_study=\"Computer Science\",\n",
    "    year_of_study=\"2nd Year\",\n",
    "    list_of_subjects=[\"Data Structures\", \"Databases\", \"Discrete Mathematics\"],\n",
    "    preferred_learning_styles=\"Visual\",\n",
    "    personal_objectives=\"Improve programming skills.\",\n",
    "    challenges=\"Difficulty with theoretical concepts.\",\n",
    "    extracurricular_activities=\"Coding club\"\n",
    ")"
   ]
  },
  {
   "cell_type": "markdown",
   "metadata": {},
   "source": [
    "## Generating the response from OpenAI"
   ]
  },
  {
   "cell_type": "code",
   "execution_count": 47,
   "metadata": {},
   "outputs": [],
   "source": [
    "# Initialize the ChatOpenAI object\n",
    "llm = ChatOpenAI(\n",
    "    model=\"gpt-4\",\n",
    "    temperature=0.7,\n",
    "    max_tokens=6000,\n",
    "    api_key=\"sk-proj-\",  \n",
    ")\n",
    "response = llm.invoke(filled_template)\n"
   ]
  },
  {
   "cell_type": "markdown",
   "metadata": {},
   "source": [
    "## Displaying the response into  Markdown"
   ]
  },
  {
   "cell_type": "code",
   "execution_count": 48,
   "metadata": {},
   "outputs": [
    {
     "data": {
      "text/markdown": [
       "Study Plan for Huzaifa Tahir\n",
       "\n",
       "1. Key Areas of Focus:\n",
       "\n",
       "   - Data Structures: As a computer science student, a strong understanding of data structures is key. Spend a significant portion of your study time on this subject to improve your programming skills.\n",
       "   \n",
       "   - Databases: This is another crucial area for you, Huzaifa. Make sure to dedicate ample time understanding different database models and SQL queries.\n",
       "   \n",
       "   - Discrete Mathematics: This subject is often theoretical and abstract, which you've mentioned is a challenge area for you. Thus, we will focus on practical examples and visual aids to help you understand better.\n",
       "\n",
       "2. Learning Strategies:\n",
       "\n",
       "   - Use diagrams and flowcharts extensively to understand and memorize concepts in Data Structures and Databases.\n",
       "   \n",
       "   - Watch educational videos on platforms like YouTube and Coursera to supplement your learning.\n",
       "   \n",
       "   - Use colored pens or highlighters to make your notes more visual and engaging.\n",
       "\n",
       "3. Balancing Academics and Extracurricular Activities:\n",
       "\n",
       "   - Set a specific time for your Coding Club activities and strictly follow it. This will ensure you have a healthy balance between your academics and extracurricular activities.\n",
       "   \n",
       "   - Use productivity tools like Google Calendar to manage your time effectively.\n",
       "\n",
       "4. Addressing Objectives and Challenges:\n",
       "\n",
       "   - To improve your programming skills, practice coding regularly. Websites like HackerRank and LeetCode provide various coding problems to practice.\n",
       "   \n",
       "   - For theoretical concepts, try to relate them with real-life scenarios or code them out to better understand them.\n",
       "\n",
       "5. Structured Timeline:\n",
       "\n",
       "   - Divide your study time into 50-minute study sessions with 10-minute breaks in between. This technique is known as the Pomodoro Technique and has proven to be effective.\n",
       "   \n",
       "   - Allocate your weekdays to study and revise the concepts learned during the lectures. Use weekends to practice coding and work on assignments.\n",
       "\n",
       "6. Supplementary Resources:\n",
       "\n",
       "   - Use online platforms like Khan Academy and Coursera for video tutorials.\n",
       "   \n",
       "   - Join study groups to discuss and understand difficult concepts.\n",
       "   \n",
       "   - Utilize the academic support services provided by your institution.\n",
       "\n",
       "7. Motivational Tips:\n",
       "\n",
       "   - Set small, achievable goals for each study session.\n",
       "   \n",
       "   - Reward yourself after achieving each goal. This could be a short break, a snack, or anything that you enjoy.\n",
       "   \n",
       "   - Maintain a positive mindset and remember that it's okay to have unproductive days. What matters is your consistent effort.\n",
       "\n",
       "Remember, this plan is a guideline. Feel free to adjust it according to your needs and what works best for you. Happy Studying, Huzaifa!"
      ],
      "text/plain": [
       "<IPython.core.display.Markdown object>"
      ]
     },
     "metadata": {},
     "output_type": "display_data"
    }
   ],
   "source": [
    "response_content = response.content\n",
    "display(Markdown(response_content))"
   ]
  },
  {
   "cell_type": "markdown",
   "metadata": {},
   "source": [
    "## End of the Notebook \n",
    "\n",
    "Thank you for exploring this notebook! If you have any questions, feedback, or suggestions, feel free to reach out. Happy coding!"
   ]
  }
 ],
 "metadata": {
  "kernelspec": {
   "display_name": "env",
   "language": "python",
   "name": "python3"
  },
  "language_info": {
   "codemirror_mode": {
    "name": "ipython",
    "version": 3
   },
   "file_extension": ".py",
   "mimetype": "text/x-python",
   "name": "python",
   "nbconvert_exporter": "python",
   "pygments_lexer": "ipython3",
   "version": "3.10.9"
  }
 },
 "nbformat": 4,
 "nbformat_minor": 2
}
